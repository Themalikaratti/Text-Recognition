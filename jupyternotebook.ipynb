{
 "cells": [
  {
   "cell_type": "code",
   "execution_count": 1,
   "id": "024c478e-7de1-4c62-b467-e934dfb146c3",
   "metadata": {},
   "outputs": [],
   "source": [
    "import pytesseract"
   ]
  },
  {
   "cell_type": "code",
   "execution_count": 2,
   "id": "5b728f4a",
   "metadata": {},
   "outputs": [],
   "source": [
    "import pytesseract"
   ]
  },
  {
   "cell_type": "code",
   "execution_count": 4,
   "id": "ae338767-a879-4290-a144-289fb206726f",
   "metadata": {},
   "outputs": [],
   "source": [
    "pytesseract.pytesseract.tesseract_cmd = r\"C:\\\\Program Files\\\\Tesseract-OCR\\\\tesseract.exe\"\n",
    "import matplotlib.pyplot as plt"
   ]
  },
  {
   "cell_type": "code",
   "execution_count": 5,
   "id": "94d3a800-2556-428f-999e-a14ba3467d0f",
   "metadata": {},
   "outputs": [],
   "source": [
    "import cv2"
   ]
  },
  {
   "cell_type": "code",
   "execution_count": 13,
   "id": "86f99f80-f574-4311-9090-61cb977a9c12",
   "metadata": {},
   "outputs": [],
   "source": [
    "image = cv2.imread('demo.jpg')"
   ]
  },
  {
   "cell_type": "code",
   "execution_count": 14,
   "id": "d1af4e82-3ff9-4367-82cb-67f142d13ab2",
   "metadata": {},
   "outputs": [
    {
     "name": "stdout",
     "output_type": "stream",
     "text": [
      "[[[248 248 248]\n",
      "  [248 248 248]\n",
      "  [248 248 248]\n",
      "  ...\n",
      "  [248 248 248]\n",
      "  [248 248 248]\n",
      "  [248 248 248]]\n",
      "\n",
      " [[248 248 248]\n",
      "  [248 248 248]\n",
      "  [248 248 248]\n",
      "  ...\n",
      "  [248 248 248]\n",
      "  [248 248 248]\n",
      "  [248 248 248]]\n",
      "\n",
      " [[248 248 248]\n",
      "  [248 248 248]\n",
      "  [248 248 248]\n",
      "  ...\n",
      "  [248 248 248]\n",
      "  [248 248 248]\n",
      "  [248 248 248]]\n",
      "\n",
      " ...\n",
      "\n",
      " [[248 248 248]\n",
      "  [248 248 248]\n",
      "  [248 248 248]\n",
      "  ...\n",
      "  [248 248 248]\n",
      "  [248 248 248]\n",
      "  [248 248 248]]\n",
      "\n",
      " [[248 248 248]\n",
      "  [248 248 248]\n",
      "  [248 248 248]\n",
      "  ...\n",
      "  [248 248 248]\n",
      "  [248 248 248]\n",
      "  [248 248 248]]\n",
      "\n",
      " [[248 248 248]\n",
      "  [248 248 248]\n",
      "  [248 248 248]\n",
      "  ...\n",
      "  [248 248 248]\n",
      "  [248 248 248]\n",
      "  [248 248 248]]]\n"
     ]
    }
   ],
   "source": [
    "print(image)"
   ]
  },
  {
   "cell_type": "code",
   "execution_count": 15,
   "id": "bb048d6a-7960-47fa-bf80-b5baad7f153c",
   "metadata": {},
   "outputs": [
    {
     "data": {
      "text/plain": [
       "<matplotlib.image.AxesImage at 0x1cb5fad7a40>"
      ]
     },
     "execution_count": 15,
     "metadata": {},
     "output_type": "execute_result"
    },
    {
     "data": {
      "image/png": "[encoded data removed]",
      "text/plain": [
       "<Figure size 640x480 with 1 Axes>"
      ]
     },
     "metadata": {},
     "output_type": "display_data"
    }
   ],
   "source": [
    "plt.imshow(image)"
   ]
  },
  {
   "cell_type": "code",
   "execution_count": 16,
   "id": "53812acf-2727-479e-a9f1-d34a237c2cc1",
   "metadata": {},
   "outputs": [
    {
     "data": {
      "text/plain": [
       "array([[[248, 248, 248],\n",
       "        [248, 248, 248],\n",
       "        [248, 248, 248],\n",
       "        ...,\n",
       "        [248, 248, 248],\n",
       "        [248, 248, 248],\n",
       "        [248, 248, 248]],\n",
       "\n",
       "       [[248, 248, 248],\n",
       "        [248, 248, 248],\n",
       "        [248, 248, 248],\n",
       "        ...,\n",
       "        [248, 248, 248],\n",
       "        [248, 248, 248],\n",
       "        [248, 248, 248]],\n",
       "\n",
       "       [[248, 248, 248],\n",
       "        [248, 248, 248],\n",
       "        [248, 248, 248],\n",
       "        ...,\n",
       "        [248, 248, 248],\n",
       "        [248, 248, 248],\n",
       "        [248, 248, 248]],\n",
       "\n",
       "       ...,\n",
       "\n",
       "       [[248, 248, 248],\n",
       "        [248, 248, 248],\n",
       "        [248, 248, 248],\n",
       "        ...,\n",
       "        [248, 248, 248],\n",
       "        [248, 248, 248],\n",
       "        [248, 248, 248]],\n",
       "\n",
       "       [[248, 248, 248],\n",
       "        [248, 248, 248],\n",
       "        [248, 248, 248],\n",
       "        ...,\n",
       "        [248, 248, 248],\n",
       "        [248, 248, 248],\n",
       "        [248, 248, 248]],\n",
       "\n",
       "       [[248, 248, 248],\n",
       "        [248, 248, 248],\n",
       "        [248, 248, 248],\n",
       "        ...,\n",
       "        [248, 248, 248],\n",
       "        [248, 248, 248],\n",
       "        [248, 248, 248]]], dtype=uint8)"
      ]
     },
     "execution_count": 16,
     "metadata": {},
     "output_type": "execute_result"
    }
   ],
   "source": [
    "image"
   ]
  },
  {
   "cell_type": "code",
   "execution_count": 17,
   "id": "2c15ef75-5b7f-4a63-abc8-224a50331e32",
   "metadata": {},
   "outputs": [],
   "source": [
    "image2char = pytesseract.image_to_string(image)"
   ]
  },
  {
   "cell_type": "code",
   "execution_count": 18,
   "id": "787c2399-fee2-4e02-a491-375a6b06d4b1",
   "metadata": {},
   "outputs": [
    {
     "name": "stdout",
     "output_type": "stream",
     "text": [
      "This page intentionally left blank\n",
      "\n"
     ]
    }
   ],
   "source": [
    "print(image2char)"
   ]
  },
  {
   "cell_type": "code",
   "execution_count": 19,
   "id": "b379305c-01a6-4d31-8539-2b0f6d495258",
   "metadata": {},
   "outputs": [],
   "source": [
    "imagebox = pytesseract.image_to_boxes(image)"
   ]
  },
  {
   "cell_type": "code",
   "execution_count": 20,
   "id": "4a817b66-d84c-4960-9a96-ca629a0b248f",
   "metadata": {},
   "outputs": [
    {
     "name": "stdout",
     "output_type": "stream",
     "text": [
      "T 226 498 240 514 0\n",
      "h 242 498 257 515 0\n",
      "i 259 498 272 515 0\n",
      "s 275 497 288 510 0\n",
      "p 305 492 321 510 0\n",
      "a 323 497 337 510 0\n",
      "g 339 492 354 510 0\n",
      "e 355 497 369 510 0\n",
      "i 388 498 401 515 0\n",
      "n 403 498 418 510 0\n",
      "t 420 497 434 514 0\n",
      "e 436 497 450 510 0\n",
      "n 451 498 466 510 0\n",
      "t 469 497 483 514 0\n",
      "i 485 498 498 515 0\n",
      "o 500 497 514 510 0\n",
      "n 516 498 531 510 0\n",
      "a 533 497 547 510 0\n",
      "l 549 498 562 515 0\n",
      "l 565 498 578 515 0\n",
      "y 580 492 595 510 0\n",
      "l 614 498 626 515 0\n",
      "e 629 497 643 510 0\n",
      "f 646 498 660 515 0\n",
      "t 662 497 676 514 0\n",
      "b 692 497 708 515 0\n",
      "l 710 498 723 515 0\n",
      "a 726 497 740 510 0\n",
      "n 742 498 756 510 0\n",
      "k 758 498 773 515 0\n",
      "\n"
     ]
    }
   ],
   "source": [
    "print(imagebox)"
   ]
  },
  {
   "cell_type": "code",
   "execution_count": 21,
   "id": "8c8ec0ab-3233-46d4-87f8-c5d04dd17dca",
   "metadata": {},
   "outputs": [],
   "source": [
    "imagebox = pytesseract.image_to_boxes(image)\n"
   ]
  },
  {
   "cell_type": "code",
   "execution_count": 22,
   "id": "02bcd6c4-2986-40b3-b1da-de5e688c46db",
   "metadata": {},
   "outputs": [],
   "source": [
    "imageH, imageW,_ = image.shape\n"
   ]
  },
  {
   "cell_type": "code",
   "execution_count": 23,
   "id": "f900042e-365a-495e-b9f7-f4526d6bf411",
   "metadata": {},
   "outputs": [
    {
     "data": {
      "text/plain": [
       "(1000, 1000, 3)"
      ]
     },
     "execution_count": 23,
     "metadata": {},
     "output_type": "execute_result"
    }
   ],
   "source": [
    "image.shape"
   ]
  },
  {
   "cell_type": "code",
   "execution_count": 24,
   "id": "1c5f2b5e-ea1b-4107-a913-92cc26bb4db4",
   "metadata": {},
   "outputs": [],
   "source": [
    "for boxes in imagebox.splitlines():\n",
    "    boxes = boxes.split(' ')\n",
    "    x,y,w,h = int(boxes[1]),int(boxes[2]),int(boxes[3]),int(boxes[4])\n",
    "    cv2.rectangle(image, (x,imageH-y), (w,imageH-h), (0,0,225),3)"
   ]
  },
  {
   "cell_type": "code",
   "execution_count": 25,
   "id": "0d33e699-4a47-4cb6-b741-111cf34bfecd",
   "metadata": {},
   "outputs": [
    {
     "data": {
      "text/plain": [
       "<matplotlib.image.AxesImage at 0x1cb602634d0>"
      ]
     },
     "execution_count": 25,
     "metadata": {},
     "output_type": "execute_result"
    },
    {
     "data": {
      "image/png": "[encoded data removed]",
      "text/plain": [
       "<Figure size 640x480 with 1 Axes>"
      ]
     },
     "metadata": {},
     "output_type": "display_data"
    }
   ],
   "source": [
    "plt.imshow(image)"
   ]
  },
  {
   "cell_type": "code",
   "execution_count": 26,
   "id": "1e0ddab4-74d6-4e2b-b293-19bdd7fa7943",
   "metadata": {},
   "outputs": [],
   "source": [
    "import cv2\n",
    "import numpy as np\n",
    "font_scale = 1.5"
   ]
  },
  {
   "cell_type": "code",
   "execution_count": 27,
   "id": "6961ceaf-cd11-4b89-adeb-f1419a664d43",
   "metadata": {},
   "outputs": [],
   "source": [
    "font= cv2.FONT_HERSHEY_PLAIN"
   ]
  },
  {
   "cell_type": "code",
   "execution_count": 28,
   "id": "70140eb4-f7e5-4dda-9c16-ab77e3204aca",
   "metadata": {},
   "outputs": [],
   "source": [
    "import cv2\n",
    "import pytesseract\n",
    "\n",
    "# Initialize the video capture object\n",
    "cap = cv2.VideoCapture(1)\n",
    "\n",
    "# Check if the camera is opened successfully\n",
    "if not cap.isOpened():\n",
    "    # If the camera at index 1 is not opened, try opening the default camera (index 0)\n",
    "    cap = cv2.VideoCapture(0)\n",
    "\n",
    "# Check if the camera is opened successfully\n",
    "if not cap.isOpened():\n",
    "    # If neither camera is opened successfully, raise an IOError\n",
    "    raise IOError(\"Cannot open video\")\n",
    "\n",
    "# Counter to control processing frequency\n",
    "cntr = 0\n",
    "\n",
    "while True:\n",
    "    # Read a frame from the video capture\n",
    "    ret, frame = cap.read()\n",
    "\n",
    "    # Increment the counter\n",
    "    cntr += 1\n",
    "\n",
    "    # Process every 20th frame\n",
    "    if (cntr % 20) == 0:\n",
    "        # Get the dimensions of the frame\n",
    "        imageH, imageW, _ = frame.shape\n",
    "\n",
    "        # Set region of interest to the whole frame\n",
    "        x1, y1, w1, h1 = 0, 0, imageH, imageW\n",
    "\n",
    "        # Perform OCR on the frame\n",
    "        imagechar = pytesseract.image_to_string(frame)\n",
    "        imageboxes = pytesseract.image_to_boxes(frame)\n",
    "\n",
    "        # Iterate over each detected box\n",
    "        for boxes in imageboxes.splitlines():\n",
    "            boxes = boxes.split(' ')\n",
    "            x, y, w, h = int(boxes[1]), int(boxes[2]), int(boxes[3]), int(boxes[4])\n",
    "\n",
    "            # Draw a rectangle around the detected text region\n",
    "            cv2.rectangle(frame, (x, imageH - y), (w, imageH - h), (0, 0, 255), 3)\n",
    "\n",
    "            # Add the detected text as label\n",
    "            cv2.putText(frame, imagechar, (x1 + int(w1 / 50), y1 + int(h1 / 50)), cv2.FONT_HERSHEY_SIMPLEX, 0.7, (0, 0, 255), 2)\n",
    "\n",
    "        # Display the frame with text detection\n",
    "        cv2.imshow('text detection tutorial', frame)\n",
    "\n",
    "        # Check if 'a' key is pressed to break the loop\n",
    "        if cv2.waitKey(2) & 0xFF == ord('a'):\n",
    "            break\n",
    "\n",
    "# Release the video capture object\n",
    "cap.release()\n",
    "\n",
    "# Close all OpenCV windows\n",
    "cv2.destroyAllWindows()\n"
   ]
  }
 ],
 "metadata": {
  "kernelspec": {
   "display_name": "Python 3 (ipykernel)",
   "language": "python",
   "name": "python3"
  },
  "language_info": {
   "codemirror_mode": {
    "name": "ipython",
    "version": 3
   },
   "file_extension": ".py",
   "mimetype": "text/x-python",
   "name": "python",
   "nbconvert_exporter": "python",
   "pygments_lexer": "ipython3",
   "version": "3.12.0"
  }
 },
 "nbformat": 4,
 "nbformat_minor": 5
}
